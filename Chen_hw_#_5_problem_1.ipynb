{
 "cells": [
  {
   "cell_type": "code",
   "execution_count": 2,
   "metadata": {},
   "outputs": [],
   "source": [
    "import numpy as np\n",
    "import matplotlib.pylab as plt\n",
    "import orbit_gravity_time as ot"
   ]
  },
  {
   "cell_type": "code",
   "execution_count": 3,
   "metadata": {},
   "outputs": [
    {
     "name": "stdout",
     "output_type": "stream",
     "text": [
      "The period is 6.285818238844587\n"
     ]
    }
   ],
   "source": [
    "\n",
    "e=0.01671123\n",
    "r0=1.000*(1-e**2) #(unit in A.U.)\n",
    "ell = ot.OrbitGravity(e)\n",
    "#time = np.linspace(0.0, 1.0*ell.period, 2000)\n",
    "print('The period is', ell.period)\n",
    "#traj = ell.coordinate(time)"
   ]
  },
  {
   "cell_type": "code",
   "execution_count": 10,
   "metadata": {},
   "outputs": [
    {
     "name": "stdout",
     "output_type": "stream",
     "text": [
      "The Feb 1st  0.9855350968321467 AU\n",
      "The Mar 1st 0.9913875559764457 AU\n",
      "The Apr 1st 0.9999043622146365 AU\n",
      "The May 1st 1.0081330240291217 AU\n",
      "The June 1st 1.0143739239788254 AU\n",
      "The July 1st 1.016705044364907 AU\n",
      "The Aug 1st 1.0146840067937253 AU\n",
      "The Sep 1st 1.0086789942224728 AU\n",
      "The Oct 1st 1.0005412195537382 AU\n",
      "The Nov 1st 0.9919443428582775 AU\n",
      "The Dec 1st 0.9855667500911974 AU\n",
      "The Jan 1st 0.9832888893141628 AU\n",
      "The Summer solistice 1.0163898255225179 AU\n",
      "The winter solistice 0.9835549659618141 AU\n"
     ]
    }
   ],
   "source": [
    "traj = ell.coordinate([30*6.285818238844587/1.0005917185435815/365]) #1.0005917185435815  years is got from 3rd Kepler's law  \n",
    "print(\"The Feb 1st \",float(traj[1]*r0),\"AU\")\n",
    "traj = ell.coordinate([59*6.285818238844587/1.0005917185435815/365])\n",
    "print(\"The Mar 1st\",float(traj[1]*r0),\"AU\")\n",
    "traj = ell.coordinate([90*6.285818238844587/1.0005917185435815/365])\n",
    "print(\"The Apr 1st\",float(traj[1]*r0),\"AU\")\n",
    "traj = ell.coordinate([120*6.285818238844587/1.0005917185435815/365])\n",
    "print(\"The May 1st\",float(traj[1]*r0),\"AU\")\n",
    "traj = ell.coordinate([151*6.285818238844587/1.0005917185435815/365])\n",
    "print(\"The June 1st\",float(traj[1]*r0),\"AU\")\n",
    "traj = ell.coordinate([181*6.285818238844587/1.0005917185435815/365])\n",
    "print(\"The July 1st\",float(traj[1]*r0),\"AU\")\n",
    "traj = ell.coordinate([212*6.285818238844587/1.0005917185435815/365])\n",
    "print(\"The Aug 1st\",float(traj[1]*r0),\"AU\")\n",
    "traj = ell.coordinate([243*6.285818238844587/1.0005917185435815/365])\n",
    "print(\"The Sep 1st\",float(traj[1]*r0),\"AU\")\n",
    "traj = ell.coordinate([273*6.285818238844587/1.0005917185435815/365])\n",
    "print(\"The Oct 1st\",float(traj[1]*r0),\"AU\")\n",
    "traj = ell.coordinate([304*6.285818238844587/1.0005917185435815/365])\n",
    "print(\"The Nov 1st\",float(traj[1]*r0),\"AU\")\n",
    "traj = ell.coordinate([335*6.285818238844587/1.0005917185435815/365])\n",
    "print(\"The Dec 1st\",float(traj[1]*r0),\"AU\")\n",
    "traj = ell.coordinate([365*6.285818238844587/1.0005917185435815/365])\n",
    "print(\"The Jan 1st\",float(traj[1]*r0),\"AU\")\n",
    "traj = ell.coordinate([171*6.285818238844587/1.0005917185435815/365])\n",
    "print(\"The Summer solistice\",float(traj[1]*r0),\"AU\")\n",
    "traj = ell.coordinate([355*6.285818238844587/1.0005917185435815/365])\n",
    "print(\"The winter solistice\",float(traj[1]*r0),\"AU\")"
   ]
  },
  {
   "cell_type": "code",
   "execution_count": 11,
   "metadata": {},
   "outputs": [
    {
     "data": {
      "text/plain": [
       "0.033101055522517964"
      ]
     },
     "execution_count": 11,
     "metadata": {},
     "output_type": "execute_result"
    }
   ],
   "source": [
    "print(1.0163898255225179-0.9832887699999999,\"AU\")"
   ]
  },
  {
   "cell_type": "code",
   "execution_count": 13,
   "metadata": {},
   "outputs": [
    {
     "name": "stdout",
     "output_type": "stream",
     "text": [
      "0.00026619596181420846 AU\n"
     ]
    }
   ],
   "source": [
    "print(0.9835549659618141-0.9832887699999999,\"AU\")"
   ]
  },
  {
   "cell_type": "code",
   "execution_count": null,
   "metadata": {},
   "outputs": [],
   "source": []
  }
 ],
 "metadata": {
  "kernelspec": {
   "display_name": "Python 3",
   "language": "python",
   "name": "python3"
  },
  "language_info": {
   "codemirror_mode": {
    "name": "ipython",
    "version": 3
   },
   "file_extension": ".py",
   "mimetype": "text/x-python",
   "name": "python",
   "nbconvert_exporter": "python",
   "pygments_lexer": "ipython3",
   "version": "3.5.4"
  }
 },
 "nbformat": 4,
 "nbformat_minor": 2
}
