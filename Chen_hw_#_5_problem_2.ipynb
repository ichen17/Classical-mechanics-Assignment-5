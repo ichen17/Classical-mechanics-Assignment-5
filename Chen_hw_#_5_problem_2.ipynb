{
 "cells": [
  {
   "cell_type": "code",
   "execution_count": 1,
   "metadata": {},
   "outputs": [],
   "source": [
    "import numpy as np\n",
    "import matplotlib.pylab as plt\n",
    "import orbit_gravity_time as ot"
   ]
  },
  {
   "cell_type": "markdown",
   "metadata": {},
   "source": [
    "When $\\theta$ is zero, it points to the x direction. That means it always point x direction. Therefore, I just need to calculate the amplitude. \n",
    "$\\overrightarrow{A}\\cdot\\overrightarrow{r}=\\left|\\overrightarrow{A}\\right|r\\cos\\left(\\theta\\right)=\\overrightarrow{r}\\cdot\\left(\\overrightarrow{p}\\times\\overrightarrow{L}\\right)-mkr$\n",
    "\n",
    "$\\overrightarrow{r}\\cdot\\left(\\overrightarrow{p}\\times\\overrightarrow{L}\\right)=\\overrightarrow{L}\\cdot\\left(\\overrightarrow{r}\\times\\overrightarrow{p}\\right)=l^{2}$\n",
    "\n",
    "$\\left|\\overrightarrow{A}\\right|=\\frac{l^{2}}{r\\cos\\left(\\theta\\right)}-\\frac{mk}{\\cos\\left(\\theta\\right)}$"
   ]
  },
  {
   "cell_type": "code",
   "execution_count": 3,
   "metadata": {},
   "outputs": [
    {
     "name": "stdout",
     "output_type": "stream",
     "text": [
      "The amplitude of A vector 7.912283498157844e+67\n",
      "The Feb 1st 7.91228349815794e+67\n",
      "The Mar 1st 7.91228349815794e+67\n",
      "The Apr 1st 7.912283498166369e+67\n",
      "The May 1st 7.91228349815794e+67\n",
      "The Jun 1st 7.912283498157787e+67\n",
      "The July 1st 7.912283498157787e+67\n",
      "The Aug 1st 7.91228349815794e+67\n",
      "The Sep 1st 7.912283498157787e+67\n",
      "The Oct 1st 7.912283498157787e+67\n",
      "The Nov 1st 7.912283498158093e+67\n",
      "The Dec 1st 7.912283498157787e+67\n",
      "The Jan 1st 7.912283498157787e+67\n"
     ]
    }
   ],
   "source": [
    "sunmass=1.989e30\n",
    "e=0.01671123\n",
    "#e=0\n",
    "earthmass=5.97219e24\n",
    "G=6.67408e-11\n",
    "r0=1.000*(1-e**2)\n",
    "k=G*earthmass*sunmass\n",
    "au=1.496e11\n",
    "ell = ot.OrbitGravity(e)\n",
    "\n",
    "\n",
    "def Ax(t):\n",
    "    traj = ell.coordinate([t*6.285818238844587/1.0005917185435815/365]) #1.0005917185435815 years is got from 3rd Kepler law\n",
    "    return earthmass*k*r0/traj[1]/r0/np.cos(traj[0])-earthmass*k/np.cos(traj[0])\n",
    "\n",
    "def Ay(t):\n",
    "    traj = ell.coordinate([t*6.285818238844587/1.0005917185435815/365]) #1.0005917185435815 years is got from 3rd Kepler law\n",
    "    return np.s\n",
    "\n",
    "\n",
    "print(\"The amplitude of A vector\",earthmass*k*e)\n",
    "print(\"The Feb 1st\", float(A(30)))\n",
    "print(\"The Mar 1st\", float(A(59)))\n",
    "print(\"The Apr 1st\", float(A(90)))\n",
    "print(\"The May 1st\", float(A(120)))\n",
    "print(\"The Jun 1st\", float(A(151)))\n",
    "print(\"The July 1st\", float(A(181)))\n",
    "print(\"The Aug 1st\", float(A(212)))\n",
    "print(\"The Sep 1st\", float(A(243)))\n",
    "print(\"The Oct 1st\", float(A(273)))\n",
    "print(\"The Nov 1st\", float(A(304)))\n",
    "print(\"The Dec 1st\", float(A(334)))\n",
    "print(\"The Jan 1st\", float(A(365)))\n",
    "\n",
    "#rint(\"The Mar 1st\",Ax(0)[0],Ax(0)1])\n"
   ]
  },
  {
   "cell_type": "code",
   "execution_count": null,
   "metadata": {},
   "outputs": [],
   "source": []
  },
  {
   "cell_type": "code",
   "execution_count": null,
   "metadata": {},
   "outputs": [],
   "source": []
  }
 ],
 "metadata": {
  "kernelspec": {
   "display_name": "Python 3",
   "language": "python",
   "name": "python3"
  },
  "language_info": {
   "codemirror_mode": {
    "name": "ipython",
    "version": 3
   },
   "file_extension": ".py",
   "mimetype": "text/x-python",
   "name": "python",
   "nbconvert_exporter": "python",
   "pygments_lexer": "ipython3",
   "version": "3.5.4"
  }
 },
 "nbformat": 4,
 "nbformat_minor": 2
}
